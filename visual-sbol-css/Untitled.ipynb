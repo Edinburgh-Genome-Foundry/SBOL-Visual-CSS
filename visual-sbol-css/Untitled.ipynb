{
 "cells": [
  {
   "cell_type": "code",
   "execution_count": 33,
   "metadata": {
    "collapsed": true
   },
   "outputs": [],
   "source": [
    "import os"
   ]
  },
  {
   "cell_type": "code",
   "execution_count": null,
   "metadata": {
    "collapsed": false
   },
   "outputs": [],
   "source": []
  },
  {
   "cell_type": "code",
   "execution_count": null,
   "metadata": {
    "collapsed": true
   },
   "outputs": [],
   "source": []
  },
  {
   "cell_type": "code",
   "execution_count": 36,
   "metadata": {
    "collapsed": false
   },
   "outputs": [],
   "source": [
    "import os\n",
    "\n",
    "zip_filename = \"svgs.zip\"\n",
    "svg_folder_name = \"SVG\"\n",
    "os.system(\"wget http://sbolstandard.org/?wpdmdl=425 -O \" + zip_filename)\n",
    "import zipfile\n",
    "with open(zip_filename, 'rb') as f:\n",
    "    z = zipfile.ZipFile(f)\n",
    "    for name in z.namelist():\n",
    "        if name.endswith(\".svg\"):\n",
    "            z.extract(name, \".\")\n",
    "            \n",
    "def replace_in_file(path, replace_dict):\n",
    "    with open(path, \"r\") as f:\n",
    "        text = f.read()\n",
    "    for old, new in replace_dict.items():\n",
    "        text = text.replace(old, new)\n",
    "    with open(path, \"w+\") as f:\n",
    "        f.write(text)\n",
    "        \n",
    "for name in sorted(os.listdir(svg_folder_name)):\n",
    "    path = os.path.join(svg_folder_name, name)\n",
    "    replace_in_file(path, {\n",
    "            'viewBox=\"0 0 50 100\"': 'viewBox=\"-200 0 450 100\"',\n",
    "            'width=\"50px\"' : 'width=\"450px\"',\n",
    "            '</defs>' : '</defs><path d=\"M -200 50 L 250 50\"/>\\n'\n",
    "        })\n",
    "    \n",
    "template = '.%s { background-image: url(\"%s/%s\");}\\n'\n",
    "with open(\"sbol_display.css\", \"a\") as f:\n",
    "    for name in os.listdir(svg_folder_name):\n",
    "        f.write(template % (name[:-4], svg_folder_name, name))"
   ]
  },
  {
   "cell_type": "code",
   "execution_count": 9,
   "metadata": {
    "collapsed": true
   },
   "outputs": [],
   "source": []
  },
  {
   "cell_type": "code",
   "execution_count": 37,
   "metadata": {
    "collapsed": true
   },
   "outputs": [],
   "source": []
  },
  {
   "cell_type": "code",
   "execution_count": 44,
   "metadata": {
    "collapsed": false
   },
   "outputs": [],
   "source": [
    "\n",
    "    "
   ]
  },
  {
   "cell_type": "code",
   "execution_count": 26,
   "metadata": {
    "collapsed": false
   },
   "outputs": [],
   "source": []
  },
  {
   "cell_type": "code",
   "execution_count": 32,
   "metadata": {
    "collapsed": false
   },
   "outputs": [],
   "source": []
  },
  {
   "cell_type": "code",
   "execution_count": 18,
   "metadata": {
    "collapsed": false
   },
   "outputs": [
    {
     "data": {
      "text/plain": [
       "['SVG/',\n",
       " 'SVG/.DS_Store',\n",
       " '__MACOSX/',\n",
       " '__MACOSX/SVG/',\n",
       " '__MACOSX/SVG/._.DS_Store',\n",
       " 'SVG/assembly-scar.svg',\n",
       " 'SVG/blunt-restriction-site.svg',\n",
       " 'SVG/cds.svg',\n",
       " 'SVG/five-prime-overhang.svg',\n",
       " 'SVG/five-prime-sticky-restriction-site.svg',\n",
       " 'SVG/insulator.svg',\n",
       " 'SVG/operator.svg',\n",
       " 'SVG/origin-of-replication.svg',\n",
       " 'SVG/primer-binding-site.svg',\n",
       " 'SVG/promoter.svg',\n",
       " 'SVG/protease-site.svg',\n",
       " 'SVG/protein-stability-element.svg',\n",
       " 'SVG/restriction-enzyme-recognition-site.svg',\n",
       " 'SVG/ribonuclease-site.svg',\n",
       " 'SVG/ribosome-entry-site.svg',\n",
       " 'SVG/rna-stability-element.svg',\n",
       " 'SVG/signature.svg',\n",
       " 'SVG/terminator.svg',\n",
       " 'SVG/three-prime-overhang.svg',\n",
       " 'SVG/three-prime-sticky-restriction-site.svg',\n",
       " 'SVG/user-defined.svg',\n",
       " 'SBOL Visual.pdf']"
      ]
     },
     "execution_count": 18,
     "metadata": {},
     "output_type": "execute_result"
    }
   ],
   "source": []
  },
  {
   "cell_type": "code",
   "execution_count": null,
   "metadata": {
    "collapsed": true
   },
   "outputs": [],
   "source": [
    "import zipfile\n",
    "\n",
    "fh = open('test.zip', 'rb')\n",
    "z = zipfile.ZipFile(fh)\n",
    "for name in z.namelist():\n",
    "    if name.endswith(\".svg\"):\n",
    "        z.extract(name, svg_folder_name)\n",
    "fh.close()"
   ]
  }
 ],
 "metadata": {
  "kernelspec": {
   "display_name": "Python 2",
   "language": "python",
   "name": "python2"
  },
  "language_info": {
   "codemirror_mode": {
    "name": "ipython",
    "version": 2
   },
   "file_extension": ".py",
   "mimetype": "text/x-python",
   "name": "python",
   "nbconvert_exporter": "python",
   "pygments_lexer": "ipython2",
   "version": "2.7.6"
  }
 },
 "nbformat": 4,
 "nbformat_minor": 0
}
